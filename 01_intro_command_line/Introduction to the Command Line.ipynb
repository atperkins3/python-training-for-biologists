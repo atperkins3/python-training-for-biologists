{
 "cells": [
  {
   "cell_type": "markdown",
   "metadata": {
    "slideshow": {
     "slide_type": "slide"
    }
   },
   "source": [
    "## Python Programming for Biologists Series\n",
    "\n",
    "# Introduction to the Command Line / Shell / Linux"
   ]
  },
  {
   "cell_type": "markdown",
   "metadata": {
    "slideshow": {
     "slide_type": "fragment"
    }
   },
   "source": [
    "__Source__:\n",
    "\n",
    "    R. Burke Squires\n",
    "    Computational Genomics Specialist\n",
    "    BCBB / OCICB / NIAID / NIH\n",
    "\n",
    "Note: This notebook borrows material from Data Carpentry Shell presentation"
   ]
  },
  {
   "cell_type": "markdown",
   "metadata": {
    "slideshow": {
     "slide_type": "slide"
    }
   },
   "source": [
    "---\n",
    "### Python Programming for Biologists Series\n",
    "\n",
    "Prerequisites\n",
    "- [Introduction to the Command Line](http://github.com/burkesquires/python-training-for-biologists/01_intro_command_line/)\n",
    "- Introduction to Jupyter Notebooks\n",
    "\n",
    "Python Programming\n",
    "- Introduction to Programming (with python)\n",
    "- The Python Programming Language (for existing programmers)\n",
    "- Advanced Python Programming and Best Practices\n",
    "- Bioinformatics programming with Python\n",
    "- Data Analysis with Python and Pandas\n",
    "- Data Visualization with Python\n",
    "- Building Workflows with Python\n",
    "- (Biomedical Data Storage and Retrieval (with SQL and NoSQL databases))"
   ]
  },
  {
   "cell_type": "markdown",
   "metadata": {
    "slideshow": {
     "slide_type": "slide"
    }
   },
   "source": [
    "---"
   ]
  },
  {
   "cell_type": "markdown",
   "metadata": {
    "slideshow": {
     "slide_type": "slide"
    }
   },
   "source": [
    "## Learning Objectives\n",
    "\n",
    "- Describe what the command line is\n",
    "- Identify programs to access the command line (on different operating systems)\n",
    "- Locate the terminal emulator on your computer\n",
    "- Discuss some advantages / disadvantages to the command line\n",
    "- Apply your knowledge of the command line to \n",
    "- Move around in the shell\n",
    "- Create, move, and manipulate files and folders"
   ]
  },
  {
   "cell_type": "markdown",
   "metadata": {
    "slideshow": {
     "slide_type": "slide"
    }
   },
   "source": [
    "## Outline\n",
    "\n",
    "- Motivation\n",
    "- From Operating Systems to the Command Line\n",
    "    - Operating System, UNIX/LINUX, Terminal, Terminal Emulator, Shell, Command Line\n",
    "- Navigation\n",
    "- Working with Files\n",
    "- Additional Commands"
   ]
  },
  {
   "cell_type": "markdown",
   "metadata": {
    "slideshow": {
     "slide_type": "slide"
    }
   },
   "source": [
    "## Motivation\n",
    "\n",
    "Why Learn Linux (and Command line)?\n",
    "\n",
    "- Perform analyses on computer clusters (acces remote computers)\n",
    "- Analyze data that is too large for laptop / desktop\n",
    "- Enable reproducible research\n",
    "- Most open source bioinformatics software Linux based\n",
    "- Linux programs to do one thing very well and fast\n",
    "- Working with text files is especially fast and easy\n",
    "- Easy to build simple pipelines"
   ]
  },
  {
   "cell_type": "markdown",
   "metadata": {
    "slideshow": {
     "slide_type": "slide"
    }
   },
   "source": [
    "# Getting to the Command Line\n",
    "\n",
    "### Operating System -> UNIX / LINUX -> Terminal -> Terminal Emulator -> Shell -> Command Line"
   ]
  },
  {
   "cell_type": "markdown",
   "metadata": {
    "slideshow": {
     "slide_type": "slide"
    }
   },
   "source": [
    "## Operating system\n",
    "__Operating System__ -> UNIX / LINUX -> Terminal -> Terminal Emulator -> Shell -> Command Line\n",
    "\n",
    "An operating system (OS) is system software that manages computer hardware and software resources and provides common services for computer programs. All computer programs require an operating system to function. (Wikiepedia)\n",
    "<img src=\"images/hubpages_os.png\",width=500,height=500>\n",
    "Examples of operating systems include: Windows 10, macOS, Ubuntu Linux."
   ]
  },
  {
   "cell_type": "markdown",
   "metadata": {
    "slideshow": {
     "slide_type": "slide"
    }
   },
   "source": [
    "## UNIX / LINUX\n",
    "\n",
    "Operating System -> __UNIX / LINUX__ -> Terminal -> Terminal Emulator -> Shell -> Command Line\n",
    "\n",
    "__UNIX__ is an operating system. Developed at AT&T Bell Labs in 1969. Philosophy:\n",
    "- Portable\n",
    "- Multi-tasking\n",
    "- Multi-user in a time-sharing configuration\n",
    "- Everything in UNIX is either a file or a process\n",
    "- Use of plain text for storing data\n",
    "- A hierarchical file system\n",
    "- Small utilities with master program called the ‘kernel’\n",
    "- Pipeline small programs together to accomplish larger goal"
   ]
  },
  {
   "cell_type": "markdown",
   "metadata": {
    "slideshow": {
     "slide_type": "slide"
    }
   },
   "source": [
    "## UNIX / LINUX\n",
    "\n",
    "__Linux__ is an operating system. It is a free, open-source operating system _similiar_ to UNIX.\n",
    "\n",
    "<img src=\"images/sco_unix_onion.png\",width=500,height=500>\n"
   ]
  },
  {
   "cell_type": "markdown",
   "metadata": {
    "slideshow": {
     "slide_type": "slide"
    }
   },
   "source": [
    "## Terminal (then)\n",
    "\n",
    "Operating System -> UNIX / LINUX -> __Terminal__ -> Terminal Emulator -> Shell -> Command Line\n",
    "\n",
    "<img src=\"images/DEC_VT100_terminal.jpg\", width=500,height=500>"
   ]
  },
  {
   "cell_type": "markdown",
   "metadata": {
    "slideshow": {
     "slide_type": "slide"
    }
   },
   "source": [
    "## Terminal emulator (now)\n",
    "\n",
    "Operating System -> UNIX / LINUX -> Terminal -> __Terminal Emulator__ -> Shell -> Command Line\n",
    "\n",
    "The Terminal (emulator) only opens a windows into the operating system. We will need to use a program interacts with the actual hardware. We use the __shell__ for that.\n",
    "\n",
    "<img src=\"images/mac_terminal.png\", width=500,height=500>"
   ]
  },
  {
   "cell_type": "markdown",
   "metadata": {},
   "source": [
    "I know what you are thinking...this looks realy cool BUT are they sexy? :-)\n",
    "\n",
    "https://github.com/k4m4/terminals-are-sexy"
   ]
  },
  {
   "cell_type": "markdown",
   "metadata": {
    "slideshow": {
     "slide_type": "slide"
    }
   },
   "source": [
    "## Shell\n",
    "\n",
    "Operating System -> UNIX / LINUX -> Terminal -> Terminal Emulator -> __Shell__ -> Command Line\n",
    "\n",
    "The shell is a program that presents a command line interface which allows you to control your computer using commands entered with a keyboard instead of controlling graphical user interfaces (GUIs) with a mouse/keyboard combination.\n",
    "\n",
    "<img src=\"images/mac_terminal.png\", width=500,height=500>"
   ]
  },
  {
   "cell_type": "markdown",
   "metadata": {
    "slideshow": {
     "slide_type": "slide"
    }
   },
   "source": [
    "## How to access the shell\n",
    "\n",
    "The shell is already available on Mac and Linux. For Windows, you'll have to download a separate program.\n",
    "\n",
    "### Mac\n",
    "\n",
    "- On Mac the shell is available through Terminal, _Applications_ -> _Utilities_ -> _Terminal_\n",
    "\n",
    "### Windows\n",
    "\n",
    "- Windows 10 install [Bash on Ubuntu on Windows](https://msdn.microsoft.com/en-us/commandline/wsl/about) or [here](http://www.windowscentral.com/how-install-bash-shell-command-line-windows-10)\n",
    "\n",
    "- All Windows, install [gitbash](https://git-scm.com/downloads)\n",
    "\n",
    "### Linux\n",
    "\n",
    "- On linix distributions, the shell is availablel through the Terminal"
   ]
  },
  {
   "cell_type": "markdown",
   "metadata": {
    "slideshow": {
     "slide_type": "slide"
    }
   },
   "source": [
    "## Command Line\n",
    "\n",
    "Operating System -> UNIX / LINUX -> Terminal -> Terminal Emulator -> Shell -> __Command Line__\n",
    "\n",
    "We have finally arrived! We are in the __shell__ and have access to the __command line__."
   ]
  },
  {
   "cell_type": "markdown",
   "metadata": {
    "slideshow": {
     "slide_type": "slide"
    }
   },
   "source": [
    "Linux\n",
    "<img src=\"images/Visual-QuickPro-Guide-Enzer-02fig05.jpg\", width=500,height=500>"
   ]
  },
  {
   "cell_type": "markdown",
   "metadata": {
    "slideshow": {
     "slide_type": "slide"
    }
   },
   "source": [
    "Windows\n",
    "<img src=\"images/wikipedia-COMMAND_LINE.png\", width=500,height=500>"
   ]
  },
  {
   "cell_type": "markdown",
   "metadata": {
    "slideshow": {
     "slide_type": "slide"
    }
   },
   "source": [
    "## Shell Navigation\n",
    "\n",
    "Lets first see where we are located. \n",
    "\n",
    "Type (at the prompt _$_):\n",
    "    \n",
    "    pwd\n",
    "    \n",
    "(If you prefer to use Windows / DOS there is a chart at the bottom of this notebook for equivelent DOS commands. There is also a DOS / Linux Cheatsheet in this folder)"
   ]
  },
  {
   "cell_type": "code",
   "execution_count": 1,
   "metadata": {
    "slideshow": {
     "slide_type": "fragment"
    }
   },
   "outputs": [
    {
     "name": "stdout",
     "output_type": "stream",
     "text": [
      "/Users/squiresrb/version_control/python-training-for-biologists/01_intro_command_line\r\n"
     ]
    }
   ],
   "source": [
    "!pwd"
   ]
  },
  {
   "cell_type": "markdown",
   "metadata": {
    "slideshow": {
     "slide_type": "slide"
    }
   },
   "source": [
    "#### Jupyter Notebook Note: Execute Shell Commands in Jupyter Notebook with \"!\"\n",
    "\n",
    "Shell commands can be executes in a Jupyter Notebook by preceeding the command with an exclimation mark \"!\". Otherwise, go to your Teminal (emulator) and run the command.\n",
    "\n",
    "    pwd (Mac / Linux / UNIX)\n",
    "    \n",
    "    !pwd (Jupyter Notebook)"
   ]
  },
  {
   "cell_type": "code",
   "execution_count": null,
   "metadata": {
    "collapsed": true,
    "slideshow": {
     "slide_type": "fragment"
    }
   },
   "outputs": [],
   "source": []
  },
  {
   "cell_type": "markdown",
   "metadata": {
    "slideshow": {
     "slide_type": "slide"
    }
   },
   "source": [
    "### Navigation\n",
    "\n",
    "UNIX directory structure\n",
    "\n",
    "<img src=\"images/unix1_file_system.gif\", width=500,height=500>\n",
    "\n",
    "Macs use a Users Directory as well."
   ]
  },
  {
   "cell_type": "markdown",
   "metadata": {
    "slideshow": {
     "slide_type": "slide"
    }
   },
   "source": [
    "To change your location we use the __cd__ or _change directory_ command.\n",
    "\n",
    "At the command prompt ($) type:\n",
    "\n",
    "    cd /\n",
    "       "
   ]
  },
  {
   "cell_type": "code",
   "execution_count": null,
   "metadata": {
    "collapsed": true,
    "slideshow": {
     "slide_type": "fragment"
    }
   },
   "outputs": [],
   "source": []
  },
  {
   "cell_type": "markdown",
   "metadata": {
    "slideshow": {
     "slide_type": "slide"
    }
   },
   "source": [
    "If you want to go back to your home folder, type _cd_ with nothing after it.\n",
    "    \n",
    "    cd"
   ]
  },
  {
   "cell_type": "code",
   "execution_count": null,
   "metadata": {
    "slideshow": {
     "slide_type": "fragment"
    }
   },
   "outputs": [],
   "source": []
  },
  {
   "cell_type": "markdown",
   "metadata": {
    "collapsed": true,
    "slideshow": {
     "slide_type": "slide"
    }
   },
   "source": [
    "#### Getting Help\n",
    "\n",
    "You can get help on any UNIX program by using the _--help_ argument (or flag) \n",
    "\n",
    "    cd --help\n",
    "    \n",
    "or you can check the program manual by using the __man__ program with the name of the program you want help with. Like this:\n",
    "\n",
    "    man cd\n",
    "    \n"
   ]
  },
  {
   "cell_type": "code",
   "execution_count": null,
   "metadata": {
    "slideshow": {
     "slide_type": "fragment"
    }
   },
   "outputs": [],
   "source": []
  },
  {
   "cell_type": "markdown",
   "metadata": {
    "slideshow": {
     "slide_type": "slide"
    }
   },
   "source": [
    "The _argument_ after _cd_ is the folder or directory that you want to go to.\n",
    "\n",
    "You can specify a directory using its' __relative path__ or __absolute path__.\n",
    "\n",
    "The _relative path_ is in relation to your current position in the file system. Relative directories include the current directory (shortcut \".\"), parent directory (shortcut \"..\"), child directories, or any other directory using the multiple parant directory shortcuts.\n",
    "\n",
    "The _abolute path_ is in relation to the __root directory__. A absolute path will not change unless you move the file. The relative path of a file will change everytime you change your location."
   ]
  },
  {
   "cell_type": "markdown",
   "metadata": {
    "slideshow": {
     "slide_type": "slide"
    }
   },
   "source": [
    "### Absolute versus Relative Paths\n",
    "\n",
    "<img src=\"images/paths.pdf\">"
   ]
  },
  {
   "cell_type": "markdown",
   "metadata": {
    "slideshow": {
     "slide_type": "slide"
    }
   },
   "source": [
    "Lets navigate into the directory that has the seminar files. If you have not already, __please copy the class files to the Desktop__. "
   ]
  },
  {
   "cell_type": "markdown",
   "metadata": {
    "slideshow": {
     "slide_type": "slide"
    }
   },
   "source": [
    "To navigate to the desktop type:\n",
    "\n",
    "    cd            (makes sure you are in yor home directory)\n",
    "    \n",
    "    cd Desktop"
   ]
  },
  {
   "cell_type": "code",
   "execution_count": null,
   "metadata": {
    "collapsed": true,
    "slideshow": {
     "slide_type": "fragment"
    }
   },
   "outputs": [],
   "source": []
  },
  {
   "cell_type": "markdown",
   "metadata": {
    "slideshow": {
     "slide_type": "subslide"
    }
   },
   "source": [
    "#### Details on _cd_\n",
    "\n",
    "    Moving around the file system:\n",
    "\n",
    "    pwd               Show the \"present working directory\", or current directory.\n",
    "    cd                Change current directory to your HOME directory.\n",
    "    cd /usr/STRIM100  Change current directory to /usr/STRIM100.\n",
    "    cd INIT           Change current directory to INIT which is a sub-directory of the current directory.\n",
    "    cd ..             Change current directory to the parent directory of the current directory.\n",
    "    cd $STRMWORK      Change current directory to the directory defined by the environment variable 'STRMWORK'.\n",
    "    cd ~bob           Change the current directory to the user bob's home directory (if you have permission).\n",
    "    (Source: http://freeengineer.org/learnUNIXin10minutes.html)\n"
   ]
  },
  {
   "cell_type": "markdown",
   "metadata": {
    "slideshow": {
     "slide_type": "slide"
    }
   },
   "source": [
    "To see if the seminar materials folder is on the Desktop lets list the contents of the Desktop folder. __ls__ is short for _list_ and lists the contects of the directory.\n",
    "\n",
    "    ls\n",
    "    "
   ]
  },
  {
   "cell_type": "markdown",
   "metadata": {
    "slideshow": {
     "slide_type": "fragment"
    }
   },
   "source": []
  },
  {
   "cell_type": "markdown",
   "metadata": {
    "slideshow": {
     "slide_type": "subslide"
    }
   },
   "source": [
    "#### Details on _ls_\n",
    "\n",
    "    ls -l    list a directory in long ( detailed ) format\n",
    "\n",
    "for example:\n",
    "    \n",
    "    $ ls -l \n",
    "    total 8\n",
    "    -rwxrwxrwx@  1 squiresrb  NIH\\Domain Users  848 Apr  5  2016 0-How to get started.txt\n",
    "    drwxrwxrwx@ 10 squiresrb  NIH\\Domain Users  340 Feb  2 17:13 01_intro_command_line\n",
    "    drwxrwxrwx@  2 squiresrb  NIH\\Domain Users   68 Jan 23 16:10 02_intro_jupyter_notebooks\n",
    "    drwxrwxrwx@  2 squiresrb  NIH\\Domain Users   68 Jan 23 16:10 03_intro_programming\n",
    "    drwxrwxrwx@  2 squiresrb  NIH\\Domain Users   68 Jan 23 16:10 04_python_programming\n",
    "    drwxrwxrwx@  3 squiresrb  NIH\\Domain Users  102 Feb  1 10:46 05_advanced_python\n",
    "    drwxrwxrwx@  2 squiresrb  NIH\\Domain Users   68 Jan 23 16:11 06_bioinfo_python\n",
    "    drwxrwxrwx@  2 squiresrb  NIH\\Domain Users   68 Jan 23 16:12 07_data_analysis_python\n",
    "    drwxrwxrwx@  2 squiresrb  NIH\\Domain Users   68 Jan 23 16:12 08_data_vis_python\n",
    "    drwxrwxrwx@  3 squiresrb  NIH\\Domain Users  102 Jan 28 08:07 09_workflows_python\n",
    "    drwxrwxrwx   8 squiresrb  NIH\\Domain Users  272 Jan 30 10:58 long_term_evolution_project\n",
    "    drwxrwxrwx   7 squiresrb  NIH\\Domain Users  238 Feb  1 09:47 new_project_name\n",
    "    ^ ^  ^  ^    ^     ^             ^           ^     ^     ^      ^\n",
    "    | |  |  |    |     |             |           |     |     |      |  \n",
    "    | |  |  |    |     owner         group       size  date  time   name \n",
    "    | |  |  |    number of links to file or directory contents\n",
    "    | |  |  permissions for world\n",
    "    | |  permissions for members of group\n",
    "    | permissions for owner of file: r = read, w = write, x = execute -=no permission\n",
    "    type of file: - = normal file, d=directory, l = symbolic link, and others...\n",
    "\n",
    "    ls -a        List the current directory including hidden files. Hidden files start \n",
    "                 with \".\" \n",
    "    ls -ld *     List all the file and directory names in the current directory using \n",
    "                 long format. Without the \"d\" option, ls would list the contents \n",
    "                 of any sub-directory of the current. With the \"d\" option, ls \n",
    "                 just lists them like regular files.\n",
    "                 (source: http://freeengineer.org/learnUNIXin10minutes.html#Navigating)"
   ]
  },
  {
   "cell_type": "markdown",
   "metadata": {
    "slideshow": {
     "slide_type": "slide"
    }
   },
   "source": [
    "You should see a directory or folder named __python_programming_for_biologists__. \n",
    "\n",
    "__Challenge__: How do we get into that directory? \n",
    "\n",
    "_Answer_: Right, we use the _cd_ command with the name of the directory!\n",
    "\n",
    "#### Time Saver:\n",
    "\n",
    "Use __tab-completion__ to quickly complete entering the name of a directory or file. To do this start typing the name of a file or directory and then hit the _tab_ key to fill in the rest of the name. If there are many files or directories with similia rnme you may have to type more characters."
   ]
  },
  {
   "cell_type": "markdown",
   "metadata": {
    "slideshow": {
     "slide_type": "fragment"
    }
   },
   "source": []
  },
  {
   "cell_type": "markdown",
   "metadata": {
    "slideshow": {
     "slide_type": "slide"
    }
   },
   "source": [
    "Move into the seminar directory by typing:\n",
    "    \n",
    "    cd python_programming_for_biologists\n",
    "    \n",
    "confirm this move by typing:\n",
    "\n",
    "    pwd\n",
    "    "
   ]
  },
  {
   "cell_type": "code",
   "execution_count": null,
   "metadata": {
    "collapsed": true,
    "slideshow": {
     "slide_type": "fragment"
    }
   },
   "outputs": [],
   "source": []
  },
  {
   "cell_type": "markdown",
   "metadata": {
    "slideshow": {
     "slide_type": "slide"
    }
   },
   "source": [
    "## Creating Directories\n",
    "\n",
    "Now that we are in the seminar directory, lets create a directory structure that we will use for hte rest of the seminars. We will use a directory structure based loosly off of the structure put forth in [Noble's 2009 article _A Quick Guide to Organizing Computational Biology Projects_](http://journals.plos.org/ploscompbiol/article?id=10.1371/journal.pcbi.1000424).\n",
    "\n",
    "We begin by making a parent directory that will hold all of our other directories. We will name the directory after the analysis we are replicating, namely _long term evolution analysis_. To make a new directory we use the the bash command __mkdir__.\n",
    "\n",
    "    mkdir long_term_evolution_analysis\n",
    "    "
   ]
  },
  {
   "cell_type": "code",
   "execution_count": null,
   "metadata": {
    "collapsed": true,
    "slideshow": {
     "slide_type": "fragment"
    }
   },
   "outputs": [],
   "source": []
  },
  {
   "cell_type": "markdown",
   "metadata": {
    "slideshow": {
     "slide_type": "subslide"
    }
   },
   "source": [
    "#### Details on moving and removing directories:\n",
    "\n",
    "    mkdir dir1 [dir2...]    create directories\n",
    "    mkdir -p dirpath        create the directory dirpath, including all implied directories in the path.\n",
    "    rmdir dir1 [dir2...]    remove an empty directory\n",
    "    (Source: http://freeengineer.org/learnUNIXin10minutes.html)"
   ]
  },
  {
   "cell_type": "markdown",
   "metadata": {
    "slideshow": {
     "slide_type": "slide"
    }
   },
   "source": [
    "We will use underscores in place of spaces as it makes typing and tab-completion easier and faster in the shell. We can confirm that we have created the new directory by listing or _ls_ the contents of teh crrent directory.\n",
    "\n",
    "    $ls\n",
    "    "
   ]
  },
  {
   "cell_type": "code",
   "execution_count": null,
   "metadata": {
    "collapsed": true,
    "slideshow": {
     "slide_type": "fragment"
    }
   },
   "outputs": [],
   "source": []
  },
  {
   "cell_type": "markdown",
   "metadata": {
    "slideshow": {
     "slide_type": "slide"
    }
   },
   "source": [
    "We should see a directory names _long_term_evolution_analysis_.\n",
    "\n",
    "Next, we will move into the new directory. To do this we type:\n",
    "\n",
    "    cd lon<tab>\n",
    "    "
   ]
  },
  {
   "cell_type": "code",
   "execution_count": null,
   "metadata": {
    "collapsed": true,
    "slideshow": {
     "slide_type": "fragment"
    }
   },
   "outputs": [],
   "source": []
  },
  {
   "cell_type": "markdown",
   "metadata": {
    "slideshow": {
     "slide_type": "slide"
    }
   },
   "source": [
    "Remember the tab-completion should complete the project name. To confirm we have moved into the newly created folder we check out preent working directory by typing:\n",
    "\n",
    "    pwd\n",
    "    "
   ]
  },
  {
   "cell_type": "code",
   "execution_count": null,
   "metadata": {
    "collapsed": true,
    "slideshow": {
     "slide_type": "fragment"
    }
   },
   "outputs": [],
   "source": []
  },
  {
   "cell_type": "markdown",
   "metadata": {
    "slideshow": {
     "slide_type": "slide"
    }
   },
   "source": [
    "Now that we are in the project directory lets create the directories for each part of our analysis. Do this my typing:\n",
    "\n",
    "    mkdir 01_doc 02_data 03_code 04_results 05_output"
   ]
  },
  {
   "cell_type": "code",
   "execution_count": null,
   "metadata": {
    "collapsed": true,
    "slideshow": {
     "slide_type": "fragment"
    }
   },
   "outputs": [],
   "source": []
  },
  {
   "cell_type": "markdown",
   "metadata": {
    "slideshow": {
     "slide_type": "slide"
    }
   },
   "source": [
    "You are of course welcome to organize your projects in any way you choose but for the purpose of these seminars, we will use this structure.\n",
    "\n",
    "We want to create subfolders in the data directory for raw and cleaned data. Can could _cd_ into the _data_ directory and create the directories, but we can also create them from our current location. We do this by typing:\n",
    "\n",
    "    mkdir ./02_data/raw_data ./02_data/cleaned_data"
   ]
  },
  {
   "cell_type": "markdown",
   "metadata": {
    "slideshow": {
     "slide_type": "slide"
    }
   },
   "source": [
    "The _./_ tells the make directory program (_mkdir_) to look in the current directory for a subdirectory named 02_data.\n",
    "\n",
    "Complete this task by creating a manuscript directory in our current directory. We will them move it into place. To create the manuscript directory type:\n",
    "\n",
    "    mkdir ./05_output/manuscript\n",
    "    cd ./05_output/manuscript\n",
    "    mkdir figures references tables"
   ]
  },
  {
   "cell_type": "markdown",
   "metadata": {
    "slideshow": {
     "slide_type": "fragment"
    }
   },
   "source": []
  },
  {
   "cell_type": "markdown",
   "metadata": {
    "slideshow": {
     "slide_type": "slide"
    }
   },
   "source": [
    "Lets go back to our main project directory.\n",
    "\n",
    "    cd ../../\n",
    "    "
   ]
  },
  {
   "cell_type": "markdown",
   "metadata": {
    "slideshow": {
     "slide_type": "fragment"
    }
   },
   "source": []
  },
  {
   "cell_type": "markdown",
   "metadata": {
    "slideshow": {
     "slide_type": "subslide"
    }
   },
   "source": [
    "__Challenge__: How to you KNOW you are in the main project directory. Remeber with relative paths we could be anywhere! :-)\n",
    "\n",
    "_Answer_: Use _pwd_ to show the present working directory. NOTE: You can alos look at your promp for the location."
   ]
  },
  {
   "cell_type": "code",
   "execution_count": null,
   "metadata": {
    "collapsed": true,
    "slideshow": {
     "slide_type": "fragment"
    }
   },
   "outputs": [],
   "source": []
  },
  {
   "cell_type": "markdown",
   "metadata": {
    "slideshow": {
     "slide_type": "slide"
    }
   },
   "source": [
    "NOTE: To 'clear' the screen (really create a screenfull of empy lines) type: \n",
    "\n",
    "    clear"
   ]
  },
  {
   "cell_type": "markdown",
   "metadata": {
    "slideshow": {
     "slide_type": "slide"
    }
   },
   "source": [
    "## Making and moving files\n",
    "\n",
    "Lets get started with files by creating a README file at the top level of our project. In macOS or Windows we would open a word processing program like Microsoft® Word, TextEdit or NotePad. In the UNIX environment we will use one of may text editors. There are a number of text editors, including emacs, vim, nano, etc. While emacs and vim are very powerful I find that they also have a steep learning curve. So I prefer to use __nano__.\n",
    "\n",
    "Lets first just open the _nano_ text editor by typing:\n",
    "\n",
    "    nano\n",
    "    "
   ]
  },
  {
   "cell_type": "markdown",
   "metadata": {
    "slideshow": {
     "slide_type": "slide"
    }
   },
   "source": [
    "You should see something like this\n",
    "<img src=\"images/nano_text_editor.jpg\", width=500,height=500>"
   ]
  },
  {
   "cell_type": "markdown",
   "metadata": {
    "slideshow": {
     "slide_type": "slide"
    }
   },
   "source": [
    "In the _nano_text editor type the title of the document \"README\". Then lets save it. We save by typing:\n",
    "    \n",
    "    <control>X\n",
    "\n",
    "_nano_ will ask is we want to save. Type \n",
    "\n",
    "    \"Y\"\n",
    "    \n",
    "Then at the prompt \"File Name To Write\" type: \n",
    "    \n",
    "    \"README.txt\"\n",
    "    \n",
    "and hit Enter.\n",
    "\n",
    "We can see out file by listing the directory contents with _ls_. You should see:\n",
    "\n",
    "    01_doc\t\t03_code\t\t05_output\n",
    "    02_data\t\t04_results\tREADME.txt\n"
   ]
  },
  {
   "cell_type": "code",
   "execution_count": null,
   "metadata": {
    "collapsed": true,
    "slideshow": {
     "slide_type": "fragment"
    }
   },
   "outputs": [],
   "source": []
  },
  {
   "cell_type": "markdown",
   "metadata": {
    "slideshow": {
     "slide_type": "slide"
    }
   },
   "source": [
    "Now that we have a generic README file, lets make a copy of it and then move the copy into a subfolder. To copy a file in UNIX, we use the copy or __cp__ command.\n",
    "\n",
    "    cp source_file copied_file\n",
    "    \n",
    "Specifically, in our case we will type:\n",
    "\n",
    "    cp README.txt README1.txt\n",
    "    "
   ]
  },
  {
   "cell_type": "markdown",
   "metadata": {
    "slideshow": {
     "slide_type": "slide"
    }
   },
   "source": [
    "We can then us _ls_ to see that we have a copy. Type\n",
    "\n",
    "    ls\n",
    "    \n",
    "You should see:\n",
    "\n",
    "    01_doc\t\t03_code\t\t05_output\tREADME1.txt\n",
    "    02_data\t\t04_results\tREADME.txt"
   ]
  },
  {
   "cell_type": "code",
   "execution_count": null,
   "metadata": {
    "collapsed": true,
    "slideshow": {
     "slide_type": "fragment"
    }
   },
   "outputs": [],
   "source": []
  },
  {
   "cell_type": "markdown",
   "metadata": {
    "slideshow": {
     "slide_type": "slide"
    }
   },
   "source": [
    "Since we do not need two README files in the parent directory, lets move on the copy into the documents directory.\n",
    "\n",
    "To move a file in UNIX we use the __mv__ command. We will also change teh name, to remove the \"1\" from the file at the same time we move it. To accomplish this we type:\n",
    "\n",
    "    mv README1.txt ./01_doc/README.txt"
   ]
  },
  {
   "cell_type": "code",
   "execution_count": null,
   "metadata": {
    "collapsed": true,
    "slideshow": {
     "slide_type": "fragment"
    }
   },
   "outputs": [],
   "source": []
  },
  {
   "cell_type": "markdown",
   "metadata": {
    "slideshow": {
     "slide_type": "subslide"
    }
   },
   "source": [
    "#### Details on moving, renaming, and copying files:\n",
    "\n",
    "    cp file1 file2          copy a file\n",
    "    mv file1 newname        move or rename a file\n",
    "    mv file1 ~/AAA/         move file1 into sub-directory AAA in your home directory.\n",
    "    rm file1 [file2 ...]    remove or delete a file\n",
    "    rm -r dir1 [dir2...]    recursivly remove a directory and its contents BE CAREFUL!\n"
   ]
  },
  {
   "cell_type": "markdown",
   "metadata": {
    "slideshow": {
     "slide_type": "slide"
    }
   },
   "source": [
    "Now that we have the file moved we can use a few other UNIX commands to look at it. To view the file, without actually openning it, type:\n",
    "\n",
    "    cat README.txt"
   ]
  },
  {
   "cell_type": "markdown",
   "metadata": {
    "slideshow": {
     "slide_type": "subslide"
    }
   },
   "source": [
    "#### Details on viewing and editing files\n",
    "\n",
    "    cat filename      Dump a file to the screen in ascii. \n",
    "    more filename     Progressively dump a file to the screen: ENTER = one line down \n",
    "                      SPACEBAR = page down  q=quit\n",
    "    less filename     Like more, but you can use Page-Up too. Not on all systems. \n",
    "    vi filename       Edit a file using the vi editor. All UNIX systems will have vi in some form. \n",
    "    emacs filename    Edit a file using the emacs editor. Not all systems will have emacs. \n",
    "    head filename     Show the first few lines of a file.\n",
    "    head -n  filename Show the first n lines of a file.\n",
    "    tail filename     Show the last few lines of a file.\n",
    "    tail -n filename  Show the last n lines of a file.\n",
    "    (Source: http://freeengineer.org/learnUNIXin10minutes.html\n"
   ]
  },
  {
   "cell_type": "markdown",
   "metadata": {
    "slideshow": {
     "slide_type": "subslide"
    }
   },
   "source": [
    "#### Additional UNIX commands that are important to know\n",
    "\n",
    "Searching for strings in files: The grep  command\n",
    "\n",
    "    grep string filename    prints all the lines in a file that contain the string\n",
    "\n",
    "Searching for files : The find command\n",
    "\n",
    "\n",
    "    find search_path -name filename \n",
    "\n",
    "    find . -name aaa.txt    Finds all the files named aaa.txt in the current directory or \n",
    "                            any subdirectory tree. \n",
    "    find / -name vimrc      Find all the files named 'vimrc' anywhere on the system. \n",
    "    find /usr/local/games -name \"*xpilot*\"       \n",
    "                            Find all files whose names contain the string 'xpilot' which \n",
    "                            exist within the '/usr/local/games' directory tree.\n",
    "       \n",
    "    (Source: http://freeengineer.org/learnUNIXin10minutes.html)"
   ]
  },
  {
   "cell_type": "markdown",
   "metadata": {
    "slideshow": {
     "slide_type": "subslide"
    }
   },
   "source": [
    "__Redirection__:\n",
    "\n",
    "    grep string filename > newfile           Redirects the output of the above grep\n",
    "                                             command to a file 'newfile'.\n",
    "    grep string filename >> existfile        Appends the output of the grep command \n",
    "                                             to the end of 'existfile'.\n",
    "\n",
    "The redirection directives, > and >> can be used on the output of most commands \n",
    "to direct their output to a file."
   ]
  },
  {
   "cell_type": "markdown",
   "metadata": {
    "slideshow": {
     "slide_type": "subslide"
    }
   },
   "source": [
    "__Pipes__:\n",
    "\n",
    "The pipe symbol \"|\" is used to direct the output of one command to the input \n",
    "of another.\n",
    "\n",
    "For example:\n",
    "\n",
    "    ls -l | more   This commands takes the output of the long format directory list command \n",
    "                   \"ls -l\" and pipes it through the more command (also known as a filter).\n",
    "                   In this case a very long list of files can be viewed a page at a time.\n",
    "\n",
    "    du -sc * | sort -n | tail  \n",
    "                   The command \"du -sc\" lists the sizes of all files and directories in the \n",
    "                   current working directory. That is piped through \"sort -n\" which orders the \n",
    "                   output from smallest to largest size. Finally, that output is piped through \"tail\"\n",
    "                   which displays only the last few (which just happen to be the largest) results.\n",
    "\n",
    "(Source: http://freeengineer.org/learnUNIXin10minutes.html)"
   ]
  },
  {
   "cell_type": "markdown",
   "metadata": {
    "slideshow": {
     "slide_type": "slide"
    }
   },
   "source": [
    "## Learning Objectives\n",
    "\n",
    "- Describe what the command line is\n",
    "- Identify programs to access the command line (on different operating systems)\n",
    "- Locate the terminal emulator on your computer\n",
    "- Discuss some advantages / disadvantages to the command line\n",
    "- Apply your knowledge of the command line to \n",
    "- Move around in the shell\n",
    "- Create, move, and manipulate files and folders"
   ]
  },
  {
   "cell_type": "markdown",
   "metadata": {
    "slideshow": {
     "slide_type": "slide"
    }
   },
   "source": [
    "## Resources\n",
    "\n",
    "- The Linux Command Line (http://linuxcommand.org/tlcl.php)\n",
    "- Ian Korf's Lab Unix Bootcamp (http://korflab.ucdavis.edu/bootcamp.html)\n",
    "- Cliff at FreeEngineers' UNIX in Ten Minutes (http://freeengineer.org/learnUNIXin10minutes.html)\n",
    "- Repository of bash commands (https://github.com/jarv/cmdchallenge)\n",
    "- TutorialsPoint UNIX tutorial (https://www.tutorialspoint.com/unix/)\n",
    "\n",
    "Shell cheat sheets:\n",
    "\n",
    "- http://fosswire.com/post/2007/08/unixlinux-command-cheat-sheet/ \n",
    "- https://github.com/swcarpentry/boot-camps/blob/master/shell/shell_cheatsheet.md\n",
    "\n",
    "Explain shell - a web site where you can see what the different components of a shell command are doing.\n",
    "\n",
    "- http://explainshell.com \n",
    "- http://www.commandlinefu.com"
   ]
  },
  {
   "cell_type": "markdown",
   "metadata": {
    "slideshow": {
     "slide_type": "slide"
    }
   },
   "source": [
    "## Addendum"
   ]
  },
  {
   "cell_type": "code",
   "execution_count": null,
   "metadata": {
    "slideshow": {
     "slide_type": "slide"
    }
   },
   "outputs": [],
   "source": [
    "# Wrapping it all up...in the future we can just run this script.\n",
    "# The advantages of this script it is that it (should) work on Mac, Windows, Linux\n",
    "\n",
    "import os\n",
    "\n",
    "project_name = '../long term evolution analysis'\n",
    "project_name = project_name.replace(' ', '_')\n",
    "\n",
    "# Create the documents folder with a planning folder for pre-project discussions\n",
    "os.makedirs('%s/%s/%s' % (project_name, '01_doc', 'planning'), exist_ok=True)\n",
    "\n",
    "# Create the data folder with a raw data and cleaned data sub-folders\n",
    "os.makedirs('%s/%s/%s' % (project_name, '02_data', 'raw_data'), exist_ok=True)\n",
    "os.makedirs('%s/%s/%s' % (project_name, '02_data', 'cleaned_data'), exist_ok=True)\n",
    "\n",
    "# Create the source code folder for our python scripts\n",
    "os.makedirs('%s/%s' % (project_name, '03_code'), exist_ok=True)\n",
    "\n",
    "# Create the results folder for our intermediate results\n",
    "os.makedirs('%s/%s' % (project_name, '04_results'), exist_ok=True)\n",
    "\n",
    "# Create the output folder with a manuscript sub-folder\n",
    "os.makedirs('%s/%s/%s/%s' % (project_name, '05_output', 'manuscript', 'figures'), exist_ok=True)\n",
    "os.makedirs('%s/%s/%s/%s' % (project_name, '05_output', 'manuscript', 'references'), exist_ok=True)\n",
    "os.makedirs('%s/%s/%s/%s' % (project_name, '05_output', 'manuscript', 'tables'), exist_ok=True)"
   ]
  },
  {
   "cell_type": "markdown",
   "metadata": {
    "slideshow": {
     "slide_type": "slide"
    }
   },
   "source": [
    "## DOS Equivelent to UNIX / LINUX Commands\n",
    "<img src=\"images/dos_linux_commands.png\", width=500,height=500>"
   ]
  },
  {
   "cell_type": "markdown",
   "metadata": {
    "slideshow": {
     "slide_type": "slide"
    }
   },
   "source": [
    "# Q & A"
   ]
  },
  {
   "cell_type": "code",
   "execution_count": null,
   "metadata": {
    "collapsed": true
   },
   "outputs": [],
   "source": []
  }
 ],
 "metadata": {
  "anaconda-cloud": {},
  "kernelspec": {
   "display_name": "Python 3",
   "language": "python",
   "name": "python3"
  },
  "language_info": {
   "codemirror_mode": {
    "name": "ipython",
    "version": 3
   },
   "file_extension": ".py",
   "mimetype": "text/x-python",
   "name": "python",
   "nbconvert_exporter": "python",
   "pygments_lexer": "ipython3",
   "version": "3.6.1"
  }
 },
 "nbformat": 4,
 "nbformat_minor": 1
}
